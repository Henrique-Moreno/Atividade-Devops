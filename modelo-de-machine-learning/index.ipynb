{
 "cells": [
  {
   "cell_type": "markdown",
   "metadata": {},
   "source": [
    "# **Modelo de Machine Learning**"
   ]
  },
  {
   "cell_type": "code",
   "execution_count": null,
   "metadata": {},
   "outputs": [],
   "source": [
    "# Instalação das bibliotecas\n",
    "%pip install tensorflow pandas scikit-learn"
   ]
  },
  {
   "cell_type": "code",
   "execution_count": 2,
   "metadata": {},
   "outputs": [],
   "source": [
    "# Importando as bibliotecas\n",
    "\n",
    "import tensorflow as tf  # Biblioteca para machine learning e deep learning\n",
    "import pandas as pd  # Biblioteca para manipulação de dados\n",
    "from sklearn.datasets import load_iris  # Para carregar o conjunto de dados Iris\n",
    "from sklearn.model_selection import train_test_split  # Para dividir os dados em treino e teste\n",
    "from sklearn.preprocessing import StandardScaler  # Para normalizar os dados"
   ]
  },
  {
   "cell_type": "code",
   "execution_count": 3,
   "metadata": {},
   "outputs": [],
   "source": [
    "# Carregar o conjunto de dados Iris\n",
    "\n",
    "iris = load_iris()  # Carrega o conjunto de dados Iris\n",
    "X = iris.data  # Atributos (características das flores)\n",
    "y = iris.target  # Classes (espécies das flores)"
   ]
  },
  {
   "cell_type": "code",
   "execution_count": 4,
   "metadata": {},
   "outputs": [],
   "source": [
    "# Pré-processamento dos Dados\n",
    "\n",
    "# Dividir o conjunto de dados em treinamento e teste (80% treino, 20% teste)\n",
    "X_train, X_test, y_train, y_test = train_test_split(X, y, test_size=0.2, random_state=42)\n",
    "\n",
    "# Normalizar os dados para que tenham média 0 e desvio padrão 1\n",
    "scaler = StandardScaler()  # Cria um objeto do escalador\n",
    "X_train = scaler.fit_transform(X_train)  # Ajusta e transforma os dados de treinamento\n",
    "X_test = scaler.transform(X_test)  # Apenas transforma os dados de teste"
   ]
  },
  {
   "cell_type": "code",
   "execution_count": 5,
   "metadata": {},
   "outputs": [
    {
     "name": "stderr",
     "output_type": "stream",
     "text": [
      "c:\\Python312\\Lib\\site-packages\\keras\\src\\layers\\core\\dense.py:87: UserWarning: Do not pass an `input_shape`/`input_dim` argument to a layer. When using Sequential models, prefer using an `Input(shape)` object as the first layer in the model instead.\n",
      "  super().__init__(activity_regularizer=activity_regularizer, **kwargs)\n"
     ]
    }
   ],
   "source": [
    "# Construir o Modelo\n",
    "\n",
    "# Criar um modelo sequencial com Keras (parte do TensorFlow)\n",
    "model = tf.keras.Sequential([\n",
    "    tf.keras.layers.Dense(10, activation='relu', input_shape=(X_train.shape[1],)),  # Camada oculta com 10 neurônios\n",
    "    tf.keras.layers.Dense(3, activation='softmax')  # Camada de saída com 3 neurônios (uma para cada classe)\n",
    "])"
   ]
  },
  {
   "cell_type": "code",
   "execution_count": 6,
   "metadata": {},
   "outputs": [],
   "source": [
    "# Compilar o modelo especificando o otimizador, a função de perda e as métricas\n",
    "model.compile(optimizer='adam', loss='sparse_categorical_crossentropy', metrics=['accuracy'])"
   ]
  },
  {
   "cell_type": "code",
   "execution_count": null,
   "metadata": {},
   "outputs": [],
   "source": [
    "# Treinar o modelo usando os dados de treinamento\n",
    "\n",
    "model.fit(X_train, y_train, epochs=50, batch_size=5)  # Treinando por 50 épocas com tamanho de lote de 5"
   ]
  },
  {
   "cell_type": "code",
   "execution_count": 8,
   "metadata": {},
   "outputs": [
    {
     "name": "stdout",
     "output_type": "stream",
     "text": [
      "\u001b[1m1/1\u001b[0m \u001b[32m━━━━━━━━━━━━━━━━━━━━\u001b[0m\u001b[37m\u001b[0m \u001b[1m0s\u001b[0m 197ms/step - accuracy: 1.0000 - loss: 0.1040\n",
      "Perda: 0.1040, Acurácia: 1.0000\n"
     ]
    }
   ],
   "source": [
    "# Avaliar a precisão do modelo usando os dados de teste\n",
    "\n",
    "loss, accuracy = model.evaluate(X_test, y_test)  # Avaliação do modelo\n",
    "print(f'Perda: {loss:.4f}, Acurácia: {accuracy:.4f}')  # Exibir a perda e a acurácia"
   ]
  },
  {
   "cell_type": "code",
   "execution_count": 9,
   "metadata": {},
   "outputs": [
    {
     "name": "stdout",
     "output_type": "stream",
     "text": [
      "\u001b[1m1/1\u001b[0m \u001b[32m━━━━━━━━━━━━━━━━━━━━\u001b[0m\u001b[37m\u001b[0m \u001b[1m0s\u001b[0m 119ms/step\n",
      "Classes previstas: [1 0 2 1 1 0 1 2 1 1 2 0 0 0 0 1 2 1 1 2 0 2 0 2 2 2 2 2 0 0]\n"
     ]
    }
   ],
   "source": [
    "# Fazer previsões com o modelo treinado\n",
    "\n",
    "predictions = model.predict(X_test)  # Previsões sobre os dados de teste\n",
    "predicted_classes = tf.argmax(predictions, axis=1).numpy()  # Obter a classe prevista (índice da maior probabilidade)\n",
    "\n",
    "print(f'Classes previstas: {predicted_classes}')  # Exibir as classes previstas"
   ]
  },
  {
   "cell_type": "code",
   "execution_count": 10,
   "metadata": {},
   "outputs": [
    {
     "name": "stdout",
     "output_type": "stream",
     "text": [
      "Classes reais: [1 0 2 1 1 0 1 2 1 1 2 0 0 0 0 1 2 1 1 2 0 2 0 2 2 2 2 2 0 0]\n",
      "Classes previstas: [1 0 2 1 1 0 1 2 1 1 2 0 0 0 0 1 2 1 1 2 0 2 0 2 2 2 2 2 0 0]\n",
      "Taxa de acerto: 100.00%\n"
     ]
    }
   ],
   "source": [
    "# Comparar classes previstas com classes reais\n",
    "\n",
    "print(\"Classes reais:\", y_test)\n",
    "print(\"Classes previstas:\", predicted_classes)\n",
    "\n",
    "# Calcular a taxa de acerto\n",
    "accuracy = (predicted_classes == y_test).mean()\n",
    "\n",
    "print(f'Taxa de acerto: {accuracy:.2%}')  # Exibir a taxa de acerto em porcentagem"
   ]
  }
 ],
 "metadata": {
  "kernelspec": {
   "display_name": "Python 3",
   "language": "python",
   "name": "python3"
  },
  "language_info": {
   "codemirror_mode": {
    "name": "ipython",
    "version": 3
   },
   "file_extension": ".py",
   "mimetype": "text/x-python",
   "name": "python",
   "nbconvert_exporter": "python",
   "pygments_lexer": "ipython3",
   "version": "3.12.1"
  }
 },
 "nbformat": 4,
 "nbformat_minor": 2
}
