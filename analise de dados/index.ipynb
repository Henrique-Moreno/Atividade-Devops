{
 "cells": [
  {
   "cell_type": "markdown",
   "metadata": {},
   "source": [
    "#  **ANÁLISE DE DADOS DE VENDAS**"
   ]
  },
  {
   "cell_type": "code",
   "execution_count": null,
   "metadata": {},
   "outputs": [],
   "source": [
    "# Instalação das bibliotecas\n",
    "%pip install pandas matplotlib seaborn"
   ]
  },
  {
   "cell_type": "code",
   "execution_count": 3,
   "metadata": {},
   "outputs": [],
   "source": [
    "# Importando as bibliotecas\n",
    "\n",
    "import sqlite3\n",
    "import pandas as pd\n",
    "import matplotlib.pyplot as plt\n",
    "import seaborn as sns"
   ]
  },
  {
   "cell_type": "code",
   "execution_count": 4,
   "metadata": {},
   "outputs": [],
   "source": [
    "# Conectar ao banco de dados (ou criar um novo se não existir)\n",
    "conexao = sqlite3.connect('dados_vendas.db')"
   ]
  },
  {
   "cell_type": "code",
   "execution_count": 5,
   "metadata": {},
   "outputs": [],
   "source": [
    "# Cria um cursor\n",
    "cursor = conexao.cursor()"
   ]
  },
  {
   "cell_type": "code",
   "execution_count": 6,
   "metadata": {},
   "outputs": [
    {
     "data": {
      "text/plain": [
       "<sqlite3.Cursor at 0x173386fc440>"
      ]
     },
     "execution_count": 6,
     "metadata": {},
     "output_type": "execute_result"
    }
   ],
   "source": [
    "# Cria a tabela vendas\n",
    "cursor.execute('''\n",
    "CREATE TABLE IF NOT EXISTS vendas (\n",
    "    id_venda INTEGER PRIMARY KEY AUTOINCREMENT,\n",
    "    data_venda DATE,\n",
    "    produto TEXT,\n",
    "    categoria TEXT,\n",
    "    valor_venda REAL\n",
    ")\n",
    "''')"
   ]
  },
  {
   "cell_type": "code",
   "execution_count": 7,
   "metadata": {},
   "outputs": [],
   "source": [
    "# Inserir dados na tabela vendas\n",
    "vendas_data = [\n",
    "    ('2023-01-01', 'Produto A', 'Eletrônicos', 1500.00),\n",
    "    ('2023-01-05', 'Produto B', 'Roupas', 350.00),\n",
    "    ('2023-02-10', 'Produto C', 'Eletrônicos', 1200.00),\n",
    "    ('2023-03-15', 'Produto D', 'Livros', 200.00),\n",
    "    ('2023-03-20', 'Produto E', 'Eletrônicos', 800.00),\n",
    "    ('2023-04-02', 'Produto F', 'Roupas', 400.00),\n",
    "    ('2023-05-05', 'Produto G', 'Livros', 150.00),\n",
    "    ('2023-06-10', 'Produto H', 'Eletrônicos', 1000.00),\n",
    "    ('2023-07-20', 'Produto I', 'Roupas', 600.00),\n",
    "    ('2023-08-25', 'Produto J', 'Eletrônicos', 700.00),\n",
    "    ('2023-09-30', 'Produto K', 'Livros', 300.00),\n",
    "    ('2023-10-05', 'Produto L', 'Roupas', 450.00),\n",
    "    ('2023-11-15', 'Produto M', 'Eletrônicos', 900.00),\n",
    "    ('2023-12-20', 'Produto N', 'Livros', 250.00)\n",
    "]\n",
    "\n",
    "# Usando executemany para inserir múltiplos registros\n",
    "cursor.executemany('''\n",
    "INSERT INTO vendas (data_venda, produto, categoria, valor_venda) VALUES (?, ?, ?, ?)\n",
    "''', vendas_data)"
   ]
  },
  {
   "cell_type": "code",
   "execution_count": null,
   "metadata": {},
   "outputs": [],
   "source": [
    "# Confirmar as mudanças\n",
    "\n",
    "conexao.commit()"
   ]
  },
  {
   "cell_type": "code",
   "execution_count": 8,
   "metadata": {},
   "outputs": [],
   "source": [
    "# Carregar os dados em um DataFrame\n",
    "df_vendas = pd.read_sql_query(\"SELECT * FROM vendas\", conexao)"
   ]
  },
  {
   "cell_type": "code",
   "execution_count": 9,
   "metadata": {},
   "outputs": [
    {
     "name": "stdout",
     "output_type": "stream",
     "text": [
      "   id_venda  data_venda    produto    categoria  valor_venda\n",
      "0         1  2023-01-01  Produto A  Eletrônicos       1500.0\n",
      "1         2  2023-01-05  Produto B       Roupas        350.0\n",
      "2         3  2023-02-10  Produto C  Eletrônicos       1200.0\n",
      "3         4  2023-03-15  Produto D       Livros        200.0\n",
      "4         5  2023-03-20  Produto E  Eletrônicos        800.0\n"
     ]
    }
   ],
   "source": [
    "# Exibir as primeiras linhas do DataFrame\n",
    "print(df_vendas.head())"
   ]
  },
  {
   "cell_type": "code",
   "execution_count": 10,
   "metadata": {},
   "outputs": [
    {
     "name": "stdout",
     "output_type": "stream",
     "text": [
      "     categoria  valor_venda\n",
      "0  Eletrônicos       6100.0\n",
      "1       Livros        900.0\n",
      "2       Roupas       1800.0\n"
     ]
    }
   ],
   "source": [
    "# Análise total de vendas por categoria\n",
    "vendas_por_categoria = df_vendas.groupby('categoria')['valor_venda'].sum().reset_index()\n",
    "print(vendas_por_categoria)"
   ]
  },
  {
   "cell_type": "code",
   "execution_count": 11,
   "metadata": {},
   "outputs": [
    {
     "data": {
      "image/png": "[encoded data removed]",
      "text/plain": [
       "<Figure size 1000x600 with 1 Axes>"
      ]
     },
     "metadata": {},
     "output_type": "display_data"
    }
   ],
   "source": [
    "# Gráfico de barras das vendas por categoria\n",
    "plt.figure(figsize=(10,6))\n",
    "sns.barplot(x='categoria', y='valor_venda', data=vendas_por_categoria)\n",
    "plt.title('Total de Vendas por Categoria')\n",
    "plt.xlabel('Categoria')\n",
    "plt.ylabel('Total de Vendas')\n",
    "plt.show()"
   ]
  },
  {
   "cell_type": "code",
   "execution_count": 12,
   "metadata": {},
   "outputs": [],
   "source": [
    "# Fecha a conexão com o banco de dados\n",
    "conexao.close()"
   ]
  },
  {
   "cell_type": "markdown",
   "metadata": {},
   "source": [
    "### **Insights Obtidos**"
   ]
  },
  {
   "cell_type": "markdown",
   "metadata": {},
   "source": [
    "##### Os insights obtidos a partir da análise de vendas revelaram que a categoria **\"Eletrônicos\"** teve o melhor desempenho, destacando uma forte preferência do consumidor por produtos tecnológicos, enquanto as categorias **\"Roupas\"** e **\"Livros\"** vendas significativamente menores, proporcionando oportunidades de melhoria. Para maximizar os resultados, recomendamos continuar investindo em marketing para eletrônicos e explorar promoções específicas para roupas e livros, além de realizar pesquisas para entender melhor as preferências dos consumidores."
   ]
  }
 ],
 "metadata": {
  "kernelspec": {
   "display_name": "Python 3",
   "language": "python",
   "name": "python3"
  },
  "language_info": {
   "codemirror_mode": {
    "name": "ipython",
    "version": 3
   },
   "file_extension": ".py",
   "mimetype": "text/x-python",
   "name": "python",
   "nbconvert_exporter": "python",
   "pygments_lexer": "ipython3",
   "version": "3.12.1"
  }
 },
 "nbformat": 4,
 "nbformat_minor": 2
}
